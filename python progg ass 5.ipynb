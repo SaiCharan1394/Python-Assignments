{
 "cells": [
  {
   "cell_type": "code",
   "execution_count": null,
   "id": "6a29fe63",
   "metadata": {},
   "outputs": [],
   "source": [
    "1. Write a Python Program to Find LCM?\n",
    "\n",
    "a=int(input(\"enter a num :\"))\n",
    "b=int(input(\"enter a num :\"))\n",
    "\n",
    "if a>b:\n",
    "    c=a\n",
    "else:\n",
    "    c=b\n",
    "while(True):\n",
    "    if ((c%a==0)and(c%b==0)):\n",
    "        d=c\n",
    "        break\n",
    "    c += 1\n",
    "print(\"LCM of\",a,\"and\",b,\":\",d)\n",
    "\n",
    "         \n"
   ]
  },
  {
   "cell_type": "code",
   "execution_count": null,
   "id": "94a65eda",
   "metadata": {},
   "outputs": [],
   "source": [
    "2. Write a Python Program to Find HCF?\n",
    "\n",
    "a=int(input(\"enter a num :\"))\n",
    "b=int(input(\"enter a num :\"))\n",
    "\n",
    "if a>b:\n",
    "    c=a\n",
    "else:\n",
    "    c=b\n",
    "for i in range(1,c+1):\n",
    "    if ((a%i==0)and(b%i==0)):\n",
    "        d=i\n",
    "print(\"HCF of\",a,\"and\",b,\":\",d)\n",
    "\n",
    "         \n"
   ]
  },
  {
   "cell_type": "code",
   "execution_count": null,
   "id": "be7a928a",
   "metadata": {},
   "outputs": [],
   "source": [
    "3. Write a Python Program to Convert Decimal to Binary, Octal and Hexadecimal?\n",
    "\n",
    "a=int(input(\"enter a num :\"))\n",
    "print(\" Binary of\",a,\"is :\",bin(a))\n",
    "print(\" Octal of\",a,\"is :\",oct(a))\n",
    "print(\" Hexadecimal of\",a,\"is :\",hex(a))\n"
   ]
  },
  {
   "cell_type": "code",
   "execution_count": null,
   "id": "53cfc72c",
   "metadata": {},
   "outputs": [],
   "source": [
    "4. Write a Python Program To Find ASCII value of a character?\n",
    "\n",
    "a=str(input(\"enter an character :\"))\n",
    "print(\"The ASCII value of a character '\",a,\"' is :\",ord(a))\n"
   ]
  },
  {
   "cell_type": "code",
   "execution_count": null,
   "id": "dfe02b20",
   "metadata": {},
   "outputs": [],
   "source": [
    "5. Write a Python Program to Make a Simple Calculator with 4 basic mathematical operations?\n",
    "\n",
    "a=int(input(\"enter a num :\"))\n",
    "b=int(input(\"enter a num :\"))\n",
    "print(\"chose ur operator:\")\n",
    "print(\"Type 1 to add\")\n",
    "print(\"Type 2 to subtract\")\n",
    "print(\"Type 3 to multiply\")\n",
    "print(\"Type 4 to division\")\n",
    "\n",
    "c=int(input(\" enter ur choise in 1to4 numbers : \"))\n",
    "if c==1:\n",
    "    d=a+b\n",
    "    print(d)\n",
    "elif c==2:\n",
    "    d=a-b\n",
    "    print(d) \n",
    "elif c==3:\n",
    "    d=a*b\n",
    "    print(d)\n",
    "elif c==4:\n",
    "    d=a/b\n",
    "    print(d)"
   ]
  },
  {
   "cell_type": "code",
   "execution_count": null,
   "id": "c2fcd297",
   "metadata": {},
   "outputs": [],
   "source": []
  },
  {
   "cell_type": "code",
   "execution_count": null,
   "id": "8a6c8c90",
   "metadata": {},
   "outputs": [],
   "source": [
    "\n"
   ]
  },
  {
   "cell_type": "code",
   "execution_count": null,
   "id": "4ce28250",
   "metadata": {},
   "outputs": [],
   "source": []
  }
 ],
 "metadata": {
  "kernelspec": {
   "display_name": "Python 3 (ipykernel)",
   "language": "python",
   "name": "python3"
  },
  "language_info": {
   "codemirror_mode": {
    "name": "ipython",
    "version": 3
   },
   "file_extension": ".py",
   "mimetype": "text/x-python",
   "name": "python",
   "nbconvert_exporter": "python",
   "pygments_lexer": "ipython3",
   "version": "3.9.12"
  }
 },
 "nbformat": 4,
 "nbformat_minor": 5
}
