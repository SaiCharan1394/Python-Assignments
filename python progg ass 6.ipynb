{
 "cells": [
  {
   "cell_type": "code",
   "execution_count": null,
   "id": "6a29fe63",
   "metadata": {},
   "outputs": [],
   "source": [
    "1. Write a Python Program to Display Fibonacci Sequence Using Recursion?\n",
    "\n",
    "def a(b):\n",
    "    if b<=1:\n",
    "        return b\n",
    "    else:\n",
    "        return(a(b-1)+a(b-2))\n",
    "    \n",
    "c=int(input(\"enter an integer : \"))\n",
    "\n",
    "if c<=0:\n",
    "    print(\"please enter positive integer\")\n",
    "else:\n",
    "    print(\"The Fibonacci Sequence of\",c,\"is : \")\n",
    "    for i in range (c):\n",
    "        print(a(i))"
   ]
  },
  {
   "cell_type": "code",
   "execution_count": null,
   "id": "94a65eda",
   "metadata": {},
   "outputs": [],
   "source": [
    "2. Write a Python Program to Find Factorial of Number Using Recursion?\n",
    "\n",
    "def a(b):\n",
    "    if b==1:\n",
    "        return b\n",
    "    else:\n",
    "        return b*a(b-1)\n",
    "c=int(input(\"please enter positive number : \"))\n",
    "if c<0:\n",
    "    print(\"please enter positive number\")\n",
    "elif c==0:\n",
    "    print(\"The factorial of\",c,\"is :\",1)\n",
    "else:\n",
    "    print(\"The factorial of\",c,\"is :\",a(c))"
   ]
  },
  {
   "cell_type": "code",
   "execution_count": null,
   "id": "be7a928a",
   "metadata": {},
   "outputs": [],
   "source": [
    "3. Write a Python Program to calculate your Body Mass Index?\n",
    "\n",
    "def a(b,c):\n",
    "    e=b/(c**2)\n",
    "    return(e)\n",
    "    \n",
    "b=float(input(\"please enter your weight : \"))\n",
    "c=float(input(\"please enter your height(meters) : \"))\n",
    "BMI=a(b,c)\n",
    "print(\"The BMI is\",BMI,\"so you are\",end=\" \")\n",
    "if (BMI < 18.5):\n",
    "    print(\"underweight\")\n",
    "elif ( BMI >= 18.5 and bmi < 24.9):\n",
    "    print(\"Healthy\")\n",
    "elif ( BMI >= 24.9 and bmi < 30):\n",
    "    print(\"overweight\")\n",
    "elif ( BMI >=30):\n",
    "    print(\"Suffering from Obesity\")"
   ]
  },
  {
   "cell_type": "code",
   "execution_count": null,
   "id": "53cfc72c",
   "metadata": {},
   "outputs": [],
   "source": [
    "4. Write a Python Program to calculate the natural logarithm of any number?\n",
    "\n",
    "import math\n",
    "a=int(input(\"enter a number : \"))\n",
    "print(\"The natural logarithm of\",a,\"is :\",end=\" \")\n",
    "print(math.log(a))"
   ]
  },
  {
   "cell_type": "code",
   "execution_count": null,
   "id": "dfe02b20",
   "metadata": {},
   "outputs": [],
   "source": [
    "5. Write a Python Program for cube sum of first n natural numbers?\n",
    "\n",
    "a=int(input(\"enter a number : \"))\n",
    "b=0\n",
    "for i in range(1,a+1):\n",
    "    b+=pow(i,3)\n",
    "print(b)"
   ]
  },
  {
   "cell_type": "code",
   "execution_count": null,
   "id": "c2fcd297",
   "metadata": {},
   "outputs": [],
   "source": []
  },
  {
   "cell_type": "code",
   "execution_count": null,
   "id": "8a6c8c90",
   "metadata": {},
   "outputs": [],
   "source": []
  },
  {
   "cell_type": "code",
   "execution_count": null,
   "id": "4ce28250",
   "metadata": {},
   "outputs": [],
   "source": []
  },
  {
   "cell_type": "code",
   "execution_count": null,
   "id": "cec8524f",
   "metadata": {},
   "outputs": [],
   "source": []
  }
 ],
 "metadata": {
  "kernelspec": {
   "display_name": "Python 3 (ipykernel)",
   "language": "python",
   "name": "python3"
  },
  "language_info": {
   "codemirror_mode": {
    "name": "ipython",
    "version": 3
   },
   "file_extension": ".py",
   "mimetype": "text/x-python",
   "name": "python",
   "nbconvert_exporter": "python",
   "pygments_lexer": "ipython3",
   "version": "3.9.12"
  }
 },
 "nbformat": 4,
 "nbformat_minor": 5
}
