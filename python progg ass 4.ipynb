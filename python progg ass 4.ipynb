{
 "cells": [
  {
   "cell_type": "code",
   "execution_count": null,
   "id": "6a29fe63",
   "metadata": {},
   "outputs": [],
   "source": [
    "1. Write a Python Program to Find the Factorial of a Number?\n",
    "\n",
    "a=int(input(\"enter a num : \"))\n",
    "b=1\n",
    "if a<0:\n",
    "    print(\"sorry,fractions does not takes negitve numbers\")\n",
    "elif a==0:\n",
    "    print(\"fraction of 0 is 1\")\n",
    "else:\n",
    "    for i in range(1,a+1):\n",
    "        b=b*i\n",
    "    print(\"fraction of given numeber \",a,\"is\",b)"
   ]
  },
  {
   "cell_type": "code",
   "execution_count": null,
   "id": "94a65eda",
   "metadata": {},
   "outputs": [],
   "source": [
    "2. Write a Python Program to Display the multiplication Table?\n",
    "\n",
    "a=int(input(\"enter a multiplication num : \"))\n",
    "for i in range(1,11):\n",
    "    print(a,\"X\",i,\"=\",a*i)\n"
   ]
  },
  {
   "cell_type": "code",
   "execution_count": null,
   "id": "be7a928a",
   "metadata": {},
   "outputs": [],
   "source": [
    "3. Write a Python Program to Print the Fibonacci sequence?\n",
    "\n",
    "a=int(input(\"enter the positive no : \"))\n",
    "b1,b2=0,1\n",
    "c=0\n",
    "if a <= 0:\n",
    "    print(\"please enter positive elements\")\n",
    "elif a == 1:\n",
    "    print(\"fibonacci sequence of\",a,\"is :\",b2)\n",
    "else:\n",
    "    while c<a:\n",
    "        print(b1)\n",
    "        d=b1+b2\n",
    "        b1=b2\n",
    "        b2=d\n",
    "        c += 1\n"
   ]
  },
  {
   "cell_type": "code",
   "execution_count": null,
   "id": "53cfc72c",
   "metadata": {},
   "outputs": [],
   "source": [
    "4. Write a Python Program to Check Armstrong Number?\n",
    "\n",
    "a=int(input(\"enter the positive no : \"))\n",
    "b=len(str(a))\n",
    "c=0\n",
    "d=a\n",
    "while d>0:\n",
    "    e = d % 10\n",
    "    c += e ** b\n",
    "    d //= 10\n",
    "if a==c:\n",
    "    print(a,\"is a Armstrong Number\")\n",
    "else:\n",
    "    print(a,\"is not a Armstrong Number\")\n"
   ]
  },
  {
   "cell_type": "code",
   "execution_count": null,
   "id": "dfe02b20",
   "metadata": {},
   "outputs": [],
   "source": [
    "5. Write a Python Program to Find Armstrong Number in an Interval?\n",
    "\n",
    "a=int(input(\"enter a lower num : \"))\n",
    "a1=int(input(\"enter a upper num : \"))\n",
    "for i in range(a,a1+1):\n",
    "    b=len(str(i))\n",
    "    c=0\n",
    "    d=i\n",
    "    while d>0:\n",
    "        e = d % 10\n",
    "        c += e ** b\n",
    "        d //= 10\n",
    "    if i==c:\n",
    "        print(i)\n",
    "\n"
   ]
  },
  {
   "cell_type": "code",
   "execution_count": null,
   "id": "c2fcd297",
   "metadata": {},
   "outputs": [],
   "source": [
    "6. Write a Python Program to Find the Sum of Natural Numbers?\n",
    "\n",
    "a=int(input(\"enter a num: \"))\n",
    "b=(a*(a+1))/2\n",
    "print(b)"
   ]
  },
  {
   "cell_type": "code",
   "execution_count": null,
   "id": "8a6c8c90",
   "metadata": {},
   "outputs": [],
   "source": []
  },
  {
   "cell_type": "code",
   "execution_count": null,
   "id": "4ce28250",
   "metadata": {},
   "outputs": [],
   "source": []
  }
 ],
 "metadata": {
  "kernelspec": {
   "display_name": "Python 3 (ipykernel)",
   "language": "python",
   "name": "python3"
  },
  "language_info": {
   "codemirror_mode": {
    "name": "ipython",
    "version": 3
   },
   "file_extension": ".py",
   "mimetype": "text/x-python",
   "name": "python",
   "nbconvert_exporter": "python",
   "pygments_lexer": "ipython3",
   "version": "3.9.12"
  }
 },
 "nbformat": 4,
 "nbformat_minor": 5
}
