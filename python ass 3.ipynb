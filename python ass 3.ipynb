{
 "cells": [
  {
   "cell_type": "code",
   "execution_count": null,
   "id": "d32fa35c",
   "metadata": {},
   "outputs": [],
   "source": [
    "1. Why are functions advantageous to have in your programs?\n",
    "\n",
    "a . programs shorter, easy to read , easylyto update."
   ]
  },
  {
   "cell_type": "code",
   "execution_count": null,
   "id": "c0d7679a",
   "metadata": {},
   "outputs": [],
   "source": [
    "2. When does the code in a function run: when it&#39;s specified or when it&#39;s called?\n",
    "\n",
    "a . the code in a function execute.when e called the function.not when the function is defined"
   ]
  },
  {
   "cell_type": "code",
   "execution_count": null,
   "id": "fd7c0bff",
   "metadata": {},
   "outputs": [],
   "source": [
    "3. What statement creates a function?\n",
    "\n",
    "a . A statement that creates a new function, specifying its name, parameters, and the statements it executes"
   ]
  },
  {
   "cell_type": "code",
   "execution_count": null,
   "id": "ef0ded53",
   "metadata": {},
   "outputs": [],
   "source": [
    "4. What is the difference between a function and a function call?\n",
    "\n",
    "a . A function is a  code that does a particular operation and returns a result. afunction call is the code used to pass control to a function"
   ]
  },
  {
   "cell_type": "code",
   "execution_count": null,
   "id": "b8f93406",
   "metadata": {},
   "outputs": [],
   "source": [
    "5. How many global scopes are there in a Python program? How many local scopes?\n",
    "\n",
    "a . there is only one global and local scopes in python"
   ]
  },
  {
   "cell_type": "code",
   "execution_count": null,
   "id": "c1c31c3d",
   "metadata": {},
   "outputs": [],
   "source": [
    "6. What happens to variables in a local scope when the function call returns?\n",
    "\n",
    "a . after the function calls return.The local variables are destroyed"
   ]
  },
  {
   "cell_type": "code",
   "execution_count": null,
   "id": "d7518645",
   "metadata": {},
   "outputs": [],
   "source": [
    "7. What is the concept of a return value? Is it possible to have a return value in an expression?\n",
    " \n",
    "a . A return is a value that a function returns to the calling script or function when it completes its task.yes there is a possiblity"
   ]
  },
  {
   "cell_type": "code",
   "execution_count": null,
   "id": "99c1cf58",
   "metadata": {},
   "outputs": [],
   "source": [
    "8. If a function does not have a return statement, what is the return value of a call to that function?\n",
    "\n",
    "a . If no return statement appears in a function definition, control automatically returns to the calling function after the last statement of the called function is executed."
   ]
  },
  {
   "cell_type": "code",
   "execution_count": null,
   "id": "3548584e",
   "metadata": {},
   "outputs": [],
   "source": [
    "9. How do you make a function variable refer to the global variable?\n",
    "\n",
    "a . to creat a global variable in the function you can use global keyword"
   ]
  },
  {
   "cell_type": "code",
   "execution_count": null,
   "id": "69afeedf",
   "metadata": {},
   "outputs": [],
   "source": [
    "10. What is the data type of None?\n",
    "\n",
    "a . None is a data type of its own None type"
   ]
  },
  {
   "cell_type": "code",
   "execution_count": null,
   "id": "46a2188b",
   "metadata": {},
   "outputs": [],
   "source": [
    "11. What does the sentence import areallyourpetsnamederic do?\n",
    "\n",
    "a . That import statement imports a module named areallyourpetsnamederic"
   ]
  },
  {
   "cell_type": "code",
   "execution_count": null,
   "id": "244a6408",
   "metadata": {},
   "outputs": [],
   "source": [
    "12. If you had a bacon() feature in a spam module, what would you call it after importing spam?\n",
    "\n",
    "a . spam.bacon()"
   ]
  },
  {
   "cell_type": "code",
   "execution_count": null,
   "id": "fd92af4c",
   "metadata": {},
   "outputs": [],
   "source": [
    "13. What can you do to save a programme from crashing if it encounters an error?\n",
    "\n",
    "a . by writing an additional code in a program to give  messages or instructions to the user on an exception."
   ]
  },
  {
   "cell_type": "code",
   "execution_count": null,
   "id": "1f1bfd5c",
   "metadata": {},
   "outputs": [],
   "source": [
    "14. What is the purpose of the try clause? What is the purpose of the except clause?\n",
    "\n",
    "a . The try clause lets you test a block of code for errors. The except clause lets you handle the error."
   ]
  }
 ],
 "metadata": {
  "kernelspec": {
   "display_name": "Python 3 (ipykernel)",
   "language": "python",
   "name": "python3"
  },
  "language_info": {
   "codemirror_mode": {
    "name": "ipython",
    "version": 3
   },
   "file_extension": ".py",
   "mimetype": "text/x-python",
   "name": "python",
   "nbconvert_exporter": "python",
   "pygments_lexer": "ipython3",
   "version": "3.9.12"
  }
 },
 "nbformat": 4,
 "nbformat_minor": 5
}
