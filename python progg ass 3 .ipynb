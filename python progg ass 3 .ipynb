{
 "cells": [
  {
   "cell_type": "markdown",
   "id": "b0173fa4",
   "metadata": {},
   "source": [
    "# 1. Write a Python Program to Check if a Number is Positive, Negative or Zero?\n",
    "\n",
    "a=int(input(\"please enter number : \"))\n",
    "if a>0:\n",
    "    print(\"this is positive number\")\n",
    "elif a<0:\n",
    "    print(\"this is negitive number\")\n",
    "else:\n",
    "    print('this is zero')\n",
    "    "
   ]
  },
  {
   "cell_type": "markdown",
   "id": "db9ded27",
   "metadata": {},
   "source": [
    "# 2. Write a Python Program to Check if a Number is Odd or Even?\n",
    "\n",
    "a=int(input(\"please enter number : \"))\n",
    "if a%2==0:\n",
    "    print(\"the enter number is even\")\n",
    "else:\n",
    "    print(\"the enter number is odd\")\n",
    "    "
   ]
  },
  {
   "cell_type": "markdown",
   "id": "252ff3d8",
   "metadata": {},
   "source": [
    "# 3. Write a Python Program to Check Leap Year?\n",
    "\n",
    "a = int(input(\"enter year : \"))\n",
    "\n",
    "if a%4==0:\n",
    "    print(\"entered year is leap year\")\n",
    "else:\n",
    "    print(\"entered year is not leap year\")"
   ]
  },
  {
   "cell_type": "markdown",
   "id": "12bd0b68",
   "metadata": {},
   "source": [
    "# 4. Write a Python Program to Check Prime Number?\n",
    "\n",
    "a = int(input(\"enter a number : \"))\n",
    "if a>1:\n",
    "    for i in range(2,a):\n",
    "        if (a%i)==0:\n",
    "            print(a,\"is not a prime number\")\n",
    "            break\n",
    "    else:\n",
    "        print(a,\"is a prime number\")\n",
    "else:\n",
    "    print(a,\"is not a prime number\")"
   ]
  },
  {
   "cell_type": "markdown",
   "id": "ef7f8805",
   "metadata": {},
   "source": [
    "# 5. Write a Python Program to Print all Prime Numbers in an Interval of 1-10000?\n",
    "\n",
    "a=10000\n",
    "\n",
    "for i in range(a):\n",
    "    if i>1:\n",
    "        for n in range(2,i):\n",
    "            if (i%n)==0:\n",
    "                break\n",
    "        else:\n",
    "            print(i)\n",
    "               "
   ]
  },
  {
   "cell_type": "markdown",
   "id": "5fd3da83",
   "metadata": {},
   "source": []
  }
 ],
 "metadata": {
  "kernelspec": {
   "display_name": "Python 3 (ipykernel)",
   "language": "python",
   "name": "python3"
  },
  "language_info": {
   "codemirror_mode": {
    "name": "ipython",
    "version": 3
   },
   "file_extension": ".py",
   "mimetype": "text/x-python",
   "name": "python",
   "nbconvert_exporter": "python",
   "pygments_lexer": "ipython3",
   "version": "3.9.12"
  }
 },
 "nbformat": 4,
 "nbformat_minor": 5
}
