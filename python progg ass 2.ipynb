{
 "cells": [
  {
   "cell_type": "markdown",
   "id": "61a8b71c",
   "metadata": {},
   "source": [
    "# 1. Write a Python program to convert kilometers to miles?\n",
    "\n",
    "km = float(input(\"enter kilometers : \"))\n",
    "con= 0.62137119\n",
    "miles = km*con\n",
    "print(\"%0.2f km is equal of %0.2f miles\"%(km,miles))\n"
   ]
  },
  {
   "cell_type": "markdown",
   "id": "9a196ea7",
   "metadata": {},
   "source": [
    "# 2. Write a Python program to convert Celsius to Fahrenheit?\n",
    "\n",
    "a = float(input(\"enter celsius : \"))\n",
    "b=(a * 9/5) + 32\n",
    "c=b\n",
    "print(\"%0.2f celsius is equal to %0.2f fahrenheit\"%(a,c))\n"
   ]
  },
  {
   "cell_type": "markdown",
   "id": "eef5f6fa",
   "metadata": {},
   "source": [
    "# 3. Write a Python program to display calendar?\n",
    "\n",
    "import calendar\n",
    "\n",
    "yy = int(input(\"enter year : \"))\n",
    "mm = int(input(\"enter month : \"))\n",
    "print(calendar.month(yy,mm))"
   ]
  },
  {
   "cell_type": "markdown",
   "id": "f6ba4761",
   "metadata": {},
   "source": [
    "# 4. Write a Python program to solve quadratic equation?\n",
    "\n",
    "import cmath\n",
    "\n",
    "a=int(input(\"enter a first number except zero : \"))\n",
    "if a!=0:\n",
    "    b=int(input(\"enter a second number  : \"))\n",
    "    c=int(input(\"enter a third number  : \"))\n",
    "    d = (b**2)-(4*a*c)\n",
    "    e = (-b-cmath.sqrt(d))/(2*a)\n",
    "    f = (-b+cmath.sqrt(d))/(2*a)\n",
    "    print(\"the solutions are {0}and{1}\".format(e,f))\n",
    "else:\n",
    "    print(\"enter a number except zero\")"
   ]
  },
  {
   "cell_type": "markdown",
   "id": "a0301952",
   "metadata": {},
   "source": [
    "# 5. Write a Python program to swap two variables without temp variable?\n",
    "\n",
    "a=int(input(\"enter a first number  : \"))\n",
    "b=int(input(\"enter a second number  : \"))\n",
    "a,b = (b,a)\n",
    "print(\"here is your two variables after swap {0}and{1}\".format(a,b))"
   ]
  }
 ],
 "metadata": {
  "kernelspec": {
   "display_name": "Python 3 (ipykernel)",
   "language": "python",
   "name": "python3"
  },
  "language_info": {
   "codemirror_mode": {
    "name": "ipython",
    "version": 3
   },
   "file_extension": ".py",
   "mimetype": "text/x-python",
   "name": "python",
   "nbconvert_exporter": "python",
   "pygments_lexer": "ipython3",
   "version": "3.9.12"
  }
 },
 "nbformat": 4,
 "nbformat_minor": 5
}
