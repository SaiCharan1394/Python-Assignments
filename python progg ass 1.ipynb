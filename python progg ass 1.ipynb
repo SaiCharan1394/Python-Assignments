{
 "cells": [
  {
   "cell_type": "markdown",
   "id": "2a6a1e75",
   "metadata": {},
   "source": [
    "# 1. Write a Python program to print &quot;Hello Python&quot;?\n",
    "\n",
    "print(\"hello python\")"
   ]
  },
  {
   "cell_type": "markdown",
   "id": "2901bbff",
   "metadata": {},
   "source": [
    "# 2. Write a Python program to do arithmetical operations addition and division.?\n",
    "\n",
    "a = float(input(\"enter first number : \"))\n",
    "b = float(input(\"enter first second : \"))\n",
    "c=a+b\n",
    "print(\"adding of two numbers :{} \".format(c))\n",
    "d=a/b\n",
    "print(\"dividing of two numbers : {}\".format(d))"
   ]
  },
  {
   "cell_type": "markdown",
   "id": "2ac2e3c4",
   "metadata": {},
   "source": [
    "# 3. Write a Python program to find the area of a triangle?\n",
    "\n",
    "a = float(input(\"enter first side : \"))\n",
    "b = float(input(\"enter second side : \"))\n",
    "c = float(input(\"enter third side : \"))\n",
    "d=(a+b+c)/2\n",
    "area = (d*(d-a)*(d-b)*(d-c))**0.5\n",
    "print(\"area of triangle %0.2f\"%area)"
   ]
  },
  {
   "cell_type": "markdown",
   "id": "9d62ad25",
   "metadata": {},
   "source": [
    "# 4. Write a Python program to swap two variables?\n",
    "\n",
    "x = int(input(\"enter a x value : \"))\n",
    "y = int(input(\"enter a y value : \"))\n",
    "x,y=y,x\n",
    "print(\"x value after swipe : {}\".format(x))\n",
    "print(\"y value after swipe : {}\".format(y))"
   ]
  },
  {
   "cell_type": "markdown",
   "id": "d35ee101",
   "metadata": {},
   "source": [
    "# 5. Write a Python program to generate a random number?\n",
    "\n",
    "import random\n",
    "print(random.randint(1,1000))"
   ]
  }
 ],
 "metadata": {
  "kernelspec": {
   "display_name": "Python 3 (ipykernel)",
   "language": "python",
   "name": "python3"
  },
  "language_info": {
   "codemirror_mode": {
    "name": "ipython",
    "version": 3
   },
   "file_extension": ".py",
   "mimetype": "text/x-python",
   "name": "python",
   "nbconvert_exporter": "python",
   "pygments_lexer": "ipython3",
   "version": "3.9.12"
  }
 },
 "nbformat": 4,
 "nbformat_minor": 5
}
