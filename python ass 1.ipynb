{
 "cells": [
  {
   "cell_type": "markdown",
   "id": "71af4457",
   "metadata": {},
   "source": [
    "# 1. In the below elements which of them are values or an expression? eg:- values can be integer or string and expressions will be mathematical operators.\n",
    " *\n",
    "&#39;hello&#39;\n",
    "-87.8\n",
    "-\n",
    "/\n",
    "+\n",
    "6\n",
    "\n",
    "\n",
    "ans:: here (*,-,/,+) these mathematical operators comes under expression\n",
    "      and (\"hello\",-87.8,6) these are string,float,integer so these comes under values"
   ]
  },
  {
   "cell_type": "markdown",
   "id": "28bbf407",
   "metadata": {},
   "source": [
    "# 2. What is the difference between string and variable?\n",
    "\n",
    "ans:: varible is any keyword that used to store the data given by user.   \n",
    "      string is a datatype which is written in double cotes.it is collection of alphabets and other charecters\n",
    "      \n",
    "     eg::\n",
    "         name=str(sai)or \"sai\"\n",
    "         \n",
    "         here name is variable and \"sai\"or str(sai) are string "
   ]
  },
  {
   "cell_type": "markdown",
   "id": "02040662",
   "metadata": {},
   "source": [
    "# 3. Describe three different data types.\n",
    "\n",
    "ans::\n",
    "     1,integer(int)\n",
    "     2,string(str)\n",
    "     3,floats(float)\n",
    "    \n",
    "    integer(int):: integer data type is writtten as int().by using this data type we can asign only numbers and it is immutable.\n",
    "     eg: age=95 or int(95)\n",
    "    string(str):: string data type is written as str().by using this data type we can asign charectes,nubers in double coteare concider as string and it is immutable.\n",
    "     eg:  name=str(sai)or \"sai\"\n",
    "    floats(float):: all decimal numbers are concider as floating numbers and it is immutable.\n",
    "     eg: grade= 85.5"
   ]
  },
  {
   "cell_type": "markdown",
   "id": "19cafa08",
   "metadata": {},
   "source": [
    "# 4. What is an expression made up of? What do all expressions do?\n",
    "\n",
    "ans:: an exprssion is made up of variables,opeators,numbers.\n",
    "        the expressions evaluvated  as per require of its operaters"
   ]
  },
  {
   "cell_type": "markdown",
   "id": "da2267d0",
   "metadata": {},
   "source": [
    "# 5. This assignment statements, like spam = 10. What is the difference between an expression and a statement?\n",
    "\n",
    "ans:: here expression is evaluvate in a single value but statement does not evaluvate because stament is a standalone so it does not.\n",
    "      but expression is a combination of operators ,numbers,variables so it is interpreted and compiled to creat a new value"
   ]
  },
  {
   "cell_type": "markdown",
   "id": "9b76318c",
   "metadata": {},
   "source": [
    "# 6. After running the following code, what does the variable bacon contain?\n",
    "bacon = 22\n",
    "bacon + 1\n",
    "\n",
    "ans:: the bacon remains its value 22 \n"
   ]
  },
  {
   "cell_type": "markdown",
   "id": "86c6dce5",
   "metadata": {},
   "source": [
    "# 7. What should the values of the following two terms be?\n",
    "\"spam\" + \"spamspam\"\n",
    "\"spam\" * 3\n",
    "\n",
    "ans::'spamspamspam'"
   ]
  },
  {
   "cell_type": "markdown",
   "id": "93f12be9",
   "metadata": {},
   "source": [
    "# 8. Why is eggs a valid variable name while 100 is invalid?\n",
    "\n",
    "ans:: variables cannot starts with intrgers it starts only with charecters so eggs is a valid varible 100 is invalid"
   ]
  },
  {
   "cell_type": "markdown",
   "id": "91a55053",
   "metadata": {},
   "source": [
    "# 9. What three functions can be used to get the integer, floating-point number, or string version of a value?\n",
    "\n",
    "ans:: integer::int(),floating point::float(),string::str()"
   ]
  },
  {
   "cell_type": "markdown",
   "id": "6eadf746",
   "metadata": {},
   "source": [
    "# 10. Why does this expression cause an error? How can you fix it?\n",
    "\"I have eaten\"  + 99 +\" burritos.\"\n",
    "\n",
    "ans:: in this expression we tried to concatenate string with number so it showes error because string concatenate only with other string. if we change code\n",
    "\n",
    "\"I have eaten\" + str(99) + \"burritos.\""
   ]
  },
  {
   "cell_type": "code",
   "execution_count": null,
   "id": "e06ac39f",
   "metadata": {},
   "outputs": [],
   "source": []
  }
 ],
 "metadata": {
  "kernelspec": {
   "display_name": "Python 3 (ipykernel)",
   "language": "python",
   "name": "python3"
  },
  "language_info": {
   "codemirror_mode": {
    "name": "ipython",
    "version": 3
   },
   "file_extension": ".py",
   "mimetype": "text/x-python",
   "name": "python",
   "nbconvert_exporter": "python",
   "pygments_lexer": "ipython3",
   "version": "3.9.12"
  }
 },
 "nbformat": 4,
 "nbformat_minor": 5
}
