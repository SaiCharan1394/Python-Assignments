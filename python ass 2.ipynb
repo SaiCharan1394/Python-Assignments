{
 "cells": [
  {
   "cell_type": "markdown",
   "id": "c5d3101a",
   "metadata": {},
   "source": [
    "# 1.What are the two values of the Boolean data type? How do you write them?\n",
    "ans:: boolean data type have two values TRUE AND FALSE.it gives output as either T OR F"
   ]
  },
  {
   "cell_type": "markdown",
   "id": "f4d6076d",
   "metadata": {},
   "source": [
    "# 2. What are the three different types of Boolean operators?\n",
    "\n",
    "ans:: and ,or,not are the three boolean operators"
   ]
  },
  {
   "cell_type": "markdown",
   "id": "c3cedb06",
   "metadata": {},
   "source": [
    "# 3. Make a list of each Boolean operator&#39;s truth tables (i.e. every possible combination of Boolean values for the operator and what it evaluate ).\n",
    "\n",
    "ANS::\n",
    "Truth table of and::   \n",
    "        \n",
    "     True and True is True.\n",
    "\n",
    "     True and False is False.\n",
    "\n",
    "     False and True is False.\n",
    "\n",
    "     False and False is False.\n",
    "\n",
    "Truth table of or:: \n",
    "        \n",
    "     True or False is True.\n",
    "\n",
    "     False or True is True.\n",
    "\n",
    "     True or True is True.\n",
    "    \n",
    "     False or False is False.\n",
    "     \n",
    "Truth table of not::    \n",
    "    \n",
    "     not True is False.\n",
    "\n",
    "     not False is True."
   ]
  },
  {
   "cell_type": "markdown",
   "id": "6742f816",
   "metadata": {},
   "source": [
    "# 4. What are the values of the following expressions?\n",
    "(5 > 4) and (3 == 5)\n",
    "not (5 > 4)\n",
    "(5 > 4) or (3 == 5)\n",
    "not ((5 > 4) or (3 == 5))\n",
    "(True and True) and (True == False)\n",
    "(not False) or (not True)\n",
    "\n",
    "ans::\n",
    "     (5 > 4) and (3 == 5)                 :: False.\n",
    "      \n",
    "      not (5 > 4)                         :: False.\n",
    "     \n",
    "      (5 > 4) or (3 == 5)                 :: True.\n",
    "      \n",
    "      not ((5 > 4) or (3 == 5))           :: False.\n",
    "      \n",
    "      (True and True) and (True == False) :: False.\n",
    "      \n",
    "      (not False) or (not True)           :: True.\n",
    "      "
   ]
  },
  {
   "cell_type": "markdown",
   "id": "cb305cee",
   "metadata": {},
   "source": [
    "# 5. What are the six comparison operators?\n",
    "\n",
    "ans::  ==,!=,<,>,<=,>="
   ]
  },
  {
   "cell_type": "markdown",
   "id": "4fc00fdf",
   "metadata": {},
   "source": [
    "# 6. How do you tell the difference between the equal to and assignment operators?Describe a condition and when you would use one.\n",
    "\n",
    "ans:: == is equal to operater that compares the two values in boolean.where = is an assignment operator that used to store data in given variable.\n",
    "      \n",
    "      it is used in flow control statements"
   ]
  },
  {
   "cell_type": "markdown",
   "id": "2a2f53ba",
   "metadata": {},
   "source": [
    "# 7. Identify the three blocks in this code:\n",
    "spam = 0\n",
    "if spam == 10:\n",
    "print(\"eggs\")\n",
    "if spam > 5:\n",
    "print(\"bacon\")\n",
    "else:\n",
    "print(\"ham\")\n",
    "print(\"spam\")\n",
    "print(\"spam\")\n",
    "\n",
    "ans::  print(\"eggs\"),print(\"bacon\"),print(\"ham\")"
   ]
  },
  {
   "cell_type": "markdown",
   "id": "18a0a903",
   "metadata": {},
   "source": [
    "# 8. Write code that prints Hello if 1 is stored in spam, prints Howdy if 2 is stored in spam, and prints Greetings! if anything else is stored in spam.\n",
    "\n",
    "\n",
    "ans ::\n",
    "        \n",
    "if spam==1:\n",
    "    print(\"hello\")\n",
    "elif spam==2:\n",
    "    print(\"howdy\")\n",
    "else:\n",
    "    print(\"Greetings!\")"
   ]
  },
  {
   "cell_type": "markdown",
   "id": "bfa9ac27",
   "metadata": {},
   "source": [
    "# 9.If your programme is stuck in an endless loop, what keys you’ll press?\n",
    "\n",
    "ans:: ctrl+c to exit from loop"
   ]
  },
  {
   "cell_type": "markdown",
   "id": "15fcf012",
   "metadata": {},
   "source": [
    "# 10. How can you tell the difference between break and continue?\n",
    "\n",
    "ans:: break statement help to come out from the current loop. continue statement help to jumps from current loop to next loop"
   ]
  },
  {
   "cell_type": "markdown",
   "id": "4d9d4c74",
   "metadata": {},
   "source": [
    "# 11. In a for loop, what is the difference between range(10), range(0, 10), and range(0, 10, 1)?\n",
    "\n",
    "ans :: range(start,stop,jump)\n",
    "        \n",
    "        \n",
    "       in range(10):\n",
    "            where the starting point is not given by the user but it takes as default 0 and ending is point 10\n",
    "            out put:: 0,1,2,3,4,5,6,7,8,9\n",
    "       in range(0,10):\n",
    "             where the starting point as 0 and ending as exclude 10 are given by the user\n",
    "            out put:: 0,1,2,3,4,5,6,7,8,9\n",
    "       in range(0, 10, 1):\n",
    "            where the starting point as 0 ending as exclude 10 and jump is 1\n",
    "             out put:: 0,1,2,3,4,5,6,7,8,9"
   ]
  },
  {
   "cell_type": "markdown",
   "id": "5617523a",
   "metadata": {},
   "source": [
    "# 12. Write a short program that prints the numbers 1 to 10 using a for loop. Then write an equivalent program that prints the numbers 1 to 10 using a while loop.\n",
    "\n",
    "ans::\n",
    "        for i in range(1,11):\n",
    "            print(i,end=\" \")\n",
    "            \n",
    "            \n",
    "        n=1\n",
    "        while n<=10:\n",
    "            print(n,end=\" \")\n",
    "            n=n+1"
   ]
  },
  {
   "cell_type": "markdown",
   "id": "dbb1bd17",
   "metadata": {},
   "source": [
    "# 13. If you had a function named bacon() inside a module named spam, how would you call it after importing spam?\n",
    "\n",
    "ans:: becon.spam()"
   ]
  },
  {
   "cell_type": "code",
   "execution_count": null,
   "id": "47ec52eb",
   "metadata": {},
   "outputs": [],
   "source": []
  },
  {
   "cell_type": "code",
   "execution_count": null,
   "id": "0898368e",
   "metadata": {},
   "outputs": [],
   "source": []
  },
  {
   "cell_type": "code",
   "execution_count": null,
   "id": "d32fa35c",
   "metadata": {},
   "outputs": [],
   "source": []
  }
 ],
 "metadata": {
  "kernelspec": {
   "display_name": "Python 3 (ipykernel)",
   "language": "python",
   "name": "python3"
  },
  "language_info": {
   "codemirror_mode": {
    "name": "ipython",
    "version": 3
   },
   "file_extension": ".py",
   "mimetype": "text/x-python",
   "name": "python",
   "nbconvert_exporter": "python",
   "pygments_lexer": "ipython3",
   "version": "3.9.12"
  }
 },
 "nbformat": 4,
 "nbformat_minor": 5
}
